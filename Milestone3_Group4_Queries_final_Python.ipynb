{
 "cells": [
  {
   "cell_type": "code",
   "execution_count": 2,
   "metadata": {},
   "outputs": [
    {
     "name": "stdout",
     "output_type": "stream",
     "text": [
      "Requirement already satisfied: tabulate in ./opt/anaconda3/lib/python3.9/site-packages (0.8.10)\r\n"
     ]
    }
   ],
   "source": [
    "!pip install tabulate"
   ]
  },
  {
   "cell_type": "code",
   "execution_count": 1,
   "metadata": {},
   "outputs": [
    {
     "ename": "ProgrammingError",
     "evalue": "1045 (28000): Access denied for user 'root'@'localhost' (using password: YES)",
     "output_type": "error",
     "traceback": [
      "\u001b[0;31m---------------------------------------------------------------------------\u001b[0m",
      "\u001b[0;31mProgrammingError\u001b[0m                          Traceback (most recent call last)",
      "\u001b[0;32m/var/folders/vb/g3prdhqx5wv6l7_8jmyn7d180000gn/T/ipykernel_1781/1751955956.py\u001b[0m in \u001b[0;36m<module>\u001b[0;34m\u001b[0m\n\u001b[1;32m      2\u001b[0m \u001b[0;32mimport\u001b[0m \u001b[0mmysql\u001b[0m\u001b[0;34m.\u001b[0m\u001b[0mconnector\u001b[0m\u001b[0;34m\u001b[0m\u001b[0;34m\u001b[0m\u001b[0m\n\u001b[1;32m      3\u001b[0m \u001b[0;32mfrom\u001b[0m \u001b[0mtabulate\u001b[0m \u001b[0;32mimport\u001b[0m \u001b[0mtabulate\u001b[0m\u001b[0;34m\u001b[0m\u001b[0;34m\u001b[0m\u001b[0m\n\u001b[0;32m----> 4\u001b[0;31m \u001b[0mcnx\u001b[0m \u001b[0;34m=\u001b[0m \u001b[0mmysql\u001b[0m\u001b[0;34m.\u001b[0m\u001b[0mconnector\u001b[0m\u001b[0;34m.\u001b[0m\u001b[0mconnect\u001b[0m\u001b[0;34m(\u001b[0m\u001b[0muser\u001b[0m\u001b[0;34m=\u001b[0m\u001b[0;34m'root'\u001b[0m\u001b[0;34m,\u001b[0m \u001b[0mpassword\u001b[0m\u001b[0;34m=\u001b[0m\u001b[0;34m'Likhitha@21'\u001b[0m\u001b[0;34m,\u001b[0m \u001b[0mdatabase\u001b[0m\u001b[0;34m=\u001b[0m\u001b[0;34m'project'\u001b[0m\u001b[0;34m)\u001b[0m\u001b[0;34m\u001b[0m\u001b[0;34m\u001b[0m\u001b[0m\n\u001b[0m\u001b[1;32m      5\u001b[0m \u001b[0mcursor\u001b[0m \u001b[0;34m=\u001b[0m \u001b[0mcnx\u001b[0m\u001b[0;34m.\u001b[0m\u001b[0mcursor\u001b[0m\u001b[0;34m(\u001b[0m\u001b[0;34m)\u001b[0m\u001b[0;34m\u001b[0m\u001b[0;34m\u001b[0m\u001b[0m\n",
      "\u001b[0;32m~/opt/anaconda3/lib/python3.9/site-packages/mysql/connector/pooling.py\u001b[0m in \u001b[0;36mconnect\u001b[0;34m(*args, **kwargs)\u001b[0m\n\u001b[1;32m    292\u001b[0m     \u001b[0;32mif\u001b[0m \u001b[0mCMySQLConnection\u001b[0m \u001b[0;32mand\u001b[0m \u001b[0;32mnot\u001b[0m \u001b[0muse_pure\u001b[0m\u001b[0;34m:\u001b[0m\u001b[0;34m\u001b[0m\u001b[0;34m\u001b[0m\u001b[0m\n\u001b[1;32m    293\u001b[0m         \u001b[0;32mreturn\u001b[0m \u001b[0mCMySQLConnection\u001b[0m\u001b[0;34m(\u001b[0m\u001b[0;34m*\u001b[0m\u001b[0margs\u001b[0m\u001b[0;34m,\u001b[0m \u001b[0;34m**\u001b[0m\u001b[0mkwargs\u001b[0m\u001b[0;34m)\u001b[0m\u001b[0;34m\u001b[0m\u001b[0;34m\u001b[0m\u001b[0m\n\u001b[0;32m--> 294\u001b[0;31m     \u001b[0;32mreturn\u001b[0m \u001b[0mMySQLConnection\u001b[0m\u001b[0;34m(\u001b[0m\u001b[0;34m*\u001b[0m\u001b[0margs\u001b[0m\u001b[0;34m,\u001b[0m \u001b[0;34m**\u001b[0m\u001b[0mkwargs\u001b[0m\u001b[0;34m)\u001b[0m\u001b[0;34m\u001b[0m\u001b[0;34m\u001b[0m\u001b[0m\n\u001b[0m\u001b[1;32m    295\u001b[0m \u001b[0;34m\u001b[0m\u001b[0m\n\u001b[1;32m    296\u001b[0m \u001b[0;34m\u001b[0m\u001b[0m\n",
      "\u001b[0;32m~/opt/anaconda3/lib/python3.9/site-packages/mysql/connector/connection.py\u001b[0m in \u001b[0;36m__init__\u001b[0;34m(self, **kwargs)\u001b[0m\n\u001b[1;32m    165\u001b[0m         \u001b[0;32mif\u001b[0m \u001b[0mkwargs\u001b[0m\u001b[0;34m:\u001b[0m\u001b[0;34m\u001b[0m\u001b[0;34m\u001b[0m\u001b[0m\n\u001b[1;32m    166\u001b[0m             \u001b[0;32mtry\u001b[0m\u001b[0;34m:\u001b[0m\u001b[0;34m\u001b[0m\u001b[0;34m\u001b[0m\u001b[0m\n\u001b[0;32m--> 167\u001b[0;31m                 \u001b[0mself\u001b[0m\u001b[0;34m.\u001b[0m\u001b[0mconnect\u001b[0m\u001b[0;34m(\u001b[0m\u001b[0;34m**\u001b[0m\u001b[0mkwargs\u001b[0m\u001b[0;34m)\u001b[0m\u001b[0;34m\u001b[0m\u001b[0;34m\u001b[0m\u001b[0m\n\u001b[0m\u001b[1;32m    168\u001b[0m             \u001b[0;32mexcept\u001b[0m \u001b[0mException\u001b[0m\u001b[0;34m:\u001b[0m\u001b[0;34m\u001b[0m\u001b[0;34m\u001b[0m\u001b[0m\n\u001b[1;32m    169\u001b[0m                 \u001b[0;31m# Tidy-up underlying socket on failure\u001b[0m\u001b[0;34m\u001b[0m\u001b[0;34m\u001b[0m\u001b[0m\n",
      "\u001b[0;32m~/opt/anaconda3/lib/python3.9/site-packages/mysql/connector/abstracts.py\u001b[0m in \u001b[0;36mconnect\u001b[0;34m(self, **kwargs)\u001b[0m\n\u001b[1;32m   1176\u001b[0m \u001b[0;34m\u001b[0m\u001b[0m\n\u001b[1;32m   1177\u001b[0m         \u001b[0mself\u001b[0m\u001b[0;34m.\u001b[0m\u001b[0mdisconnect\u001b[0m\u001b[0;34m(\u001b[0m\u001b[0;34m)\u001b[0m\u001b[0;34m\u001b[0m\u001b[0;34m\u001b[0m\u001b[0m\n\u001b[0;32m-> 1178\u001b[0;31m         \u001b[0mself\u001b[0m\u001b[0;34m.\u001b[0m\u001b[0m_open_connection\u001b[0m\u001b[0;34m(\u001b[0m\u001b[0;34m)\u001b[0m\u001b[0;34m\u001b[0m\u001b[0;34m\u001b[0m\u001b[0m\n\u001b[0m\u001b[1;32m   1179\u001b[0m         \u001b[0;31m# Server does not allow to run any other statement different from ALTER\u001b[0m\u001b[0;34m\u001b[0m\u001b[0;34m\u001b[0m\u001b[0m\n\u001b[1;32m   1180\u001b[0m         \u001b[0;31m# when user's password has been expired.\u001b[0m\u001b[0;34m\u001b[0m\u001b[0;34m\u001b[0m\u001b[0m\n",
      "\u001b[0;32m~/opt/anaconda3/lib/python3.9/site-packages/mysql/connector/connection.py\u001b[0m in \u001b[0;36m_open_connection\u001b[0;34m(self)\u001b[0m\n\u001b[1;32m    571\u001b[0m             \u001b[0mself\u001b[0m\u001b[0;34m.\u001b[0m\u001b[0m_socket\u001b[0m\u001b[0;34m.\u001b[0m\u001b[0mopen_connection\u001b[0m\u001b[0;34m(\u001b[0m\u001b[0;34m)\u001b[0m\u001b[0;34m\u001b[0m\u001b[0;34m\u001b[0m\u001b[0m\n\u001b[1;32m    572\u001b[0m             \u001b[0mself\u001b[0m\u001b[0;34m.\u001b[0m\u001b[0m_do_handshake\u001b[0m\u001b[0;34m(\u001b[0m\u001b[0;34m)\u001b[0m\u001b[0;34m\u001b[0m\u001b[0;34m\u001b[0m\u001b[0m\n\u001b[0;32m--> 573\u001b[0;31m             self._do_auth(\n\u001b[0m\u001b[1;32m    574\u001b[0m                 \u001b[0mself\u001b[0m\u001b[0;34m.\u001b[0m\u001b[0m_user\u001b[0m\u001b[0;34m,\u001b[0m\u001b[0;34m\u001b[0m\u001b[0;34m\u001b[0m\u001b[0m\n\u001b[1;32m    575\u001b[0m                 \u001b[0mself\u001b[0m\u001b[0;34m.\u001b[0m\u001b[0m_password\u001b[0m\u001b[0;34m,\u001b[0m\u001b[0;34m\u001b[0m\u001b[0;34m\u001b[0m\u001b[0m\n",
      "\u001b[0;32m~/opt/anaconda3/lib/python3.9/site-packages/mysql/connector/connection.py\u001b[0m in \u001b[0;36m_do_auth\u001b[0;34m(self, username, password, database, client_flags, charset, ssl_options, conn_attrs)\u001b[0m\n\u001b[1;32m    310\u001b[0m         )\n\u001b[1;32m    311\u001b[0m         \u001b[0mself\u001b[0m\u001b[0;34m.\u001b[0m\u001b[0m_socket\u001b[0m\u001b[0;34m.\u001b[0m\u001b[0msend\u001b[0m\u001b[0;34m(\u001b[0m\u001b[0mpacket\u001b[0m\u001b[0;34m)\u001b[0m\u001b[0;34m\u001b[0m\u001b[0;34m\u001b[0m\u001b[0m\n\u001b[0;32m--> 312\u001b[0;31m         \u001b[0mself\u001b[0m\u001b[0;34m.\u001b[0m\u001b[0m_auth_switch_request\u001b[0m\u001b[0;34m(\u001b[0m\u001b[0musername\u001b[0m\u001b[0;34m,\u001b[0m \u001b[0mpassword\u001b[0m\u001b[0;34m)\u001b[0m\u001b[0;34m\u001b[0m\u001b[0;34m\u001b[0m\u001b[0m\n\u001b[0m\u001b[1;32m    313\u001b[0m \u001b[0;34m\u001b[0m\u001b[0m\n\u001b[1;32m    314\u001b[0m         \u001b[0;32mif\u001b[0m \u001b[0;32mnot\u001b[0m \u001b[0;34m(\u001b[0m\u001b[0mclient_flags\u001b[0m \u001b[0;34m&\u001b[0m \u001b[0mClientFlag\u001b[0m\u001b[0;34m.\u001b[0m\u001b[0mCONNECT_WITH_DB\u001b[0m\u001b[0;34m)\u001b[0m \u001b[0;32mand\u001b[0m \u001b[0mdatabase\u001b[0m\u001b[0;34m:\u001b[0m\u001b[0;34m\u001b[0m\u001b[0;34m\u001b[0m\u001b[0m\n",
      "\u001b[0;32m~/opt/anaconda3/lib/python3.9/site-packages/mysql/connector/connection.py\u001b[0m in \u001b[0;36m_auth_switch_request\u001b[0;34m(self, username, password)\u001b[0m\n\u001b[1;32m    367\u001b[0m             \u001b[0;32mreturn\u001b[0m \u001b[0mself\u001b[0m\u001b[0;34m.\u001b[0m\u001b[0m_handle_mfa\u001b[0m\u001b[0;34m(\u001b[0m\u001b[0mpacket\u001b[0m\u001b[0;34m)\u001b[0m\u001b[0;34m\u001b[0m\u001b[0;34m\u001b[0m\u001b[0m\n\u001b[1;32m    368\u001b[0m         \u001b[0;32mif\u001b[0m \u001b[0mpacket\u001b[0m\u001b[0;34m[\u001b[0m\u001b[0;36m4\u001b[0m\u001b[0;34m]\u001b[0m \u001b[0;34m==\u001b[0m \u001b[0;36m255\u001b[0m\u001b[0;34m:\u001b[0m\u001b[0;34m\u001b[0m\u001b[0;34m\u001b[0m\u001b[0m\n\u001b[0;32m--> 369\u001b[0;31m             \u001b[0;32mraise\u001b[0m \u001b[0mget_exception\u001b[0m\u001b[0;34m(\u001b[0m\u001b[0mpacket\u001b[0m\u001b[0;34m)\u001b[0m\u001b[0;34m\u001b[0m\u001b[0;34m\u001b[0m\u001b[0m\n\u001b[0m\u001b[1;32m    370\u001b[0m         \u001b[0;32mreturn\u001b[0m \u001b[0;32mNone\u001b[0m\u001b[0;34m\u001b[0m\u001b[0;34m\u001b[0m\u001b[0m\n\u001b[1;32m    371\u001b[0m \u001b[0;34m\u001b[0m\u001b[0m\n",
      "\u001b[0;31mProgrammingError\u001b[0m: 1045 (28000): Access denied for user 'root'@'localhost' (using password: YES)"
     ]
    }
   ],
   "source": [
    "import datetime\n",
    "import mysql.connector\n",
    "from tabulate import tabulate\n",
    "cnx = mysql.connector.connect(user='root', password='Likhitha@21', database='project')\n",
    "cursor = cnx.cursor()"
   ]
  },
  {
   "cell_type": "code",
   "execution_count": 4,
   "metadata": {},
   "outputs": [
    {
     "name": "stdout",
     "output_type": "stream",
     "text": [
      "DIET_PLAN               NUM_OF_TRAINERS    NUM_OF_MEMBERS\n",
      "--------------------  -----------------  ----------------\n",
      "Low Fat                               5                 8\n",
      "High Protein                          4                 1\n",
      "Diabetic                              3                 4\n",
      "Keto                                  3                 4\n",
      "High Protein Non Veg                  2                 3\n"
     ]
    }
   ],
   "source": [
    "# 1. How many trainers are associated with each type of diet plan?\n",
    "# And How many members are following each type of diet plan? And (keto, diabetic etc.)?\n",
    "\n",
    "query1 = \"\"\"\n",
    "    SELECT W.DIET_PLAN, \n",
    "           COUNT(DISTINCT T.TRAINER_ID) AS NUM_OF_TRAINERS, \n",
    "           COUNT(DISTINCT M.MEMBER_ID) AS NUM_OF_MEMBERS \n",
    "    FROM TRAINER T \n",
    "    JOIN TRAINER_WORKOUT W ON T.TRAINER_ID = W.TRAINER_ID \n",
    "    LEFT JOIN MEMBERS M ON W.PLAN_ID = M.PLAN_ID \n",
    "    GROUP BY W.DIET_PLAN \n",
    "    ORDER BY NUM_OF_TRAINERS DESC, NUM_OF_MEMBERS DESC\n",
    "\"\"\"\n",
    "\n",
    "cursor.execute(query1)\n",
    "result_set1 = cursor.fetchall()\n",
    "\n",
    "headers1 = [\"DIET_PLAN\", \"NUM_OF_TRAINERS\", \"NUM_OF_MEMBERS\"]\n",
    "table1 = tabulate(result_set1, headers=headers1)\n",
    "\n",
    "print(table1)"
   ]
  },
  {
   "cell_type": "code",
   "execution_count": 5,
   "metadata": {},
   "outputs": [
    {
     "name": "stdout",
     "output_type": "stream",
     "text": [
      "Enter the number of result you want to view for this query: 1\n",
      "  HOUR_OF_DAY    NUM_OF_VISITS\n",
      "-------------  ---------------\n",
      "           20               84\n"
     ]
    }
   ],
   "source": [
    "#  2. What are the top peak hours?\n",
    "\n",
    "# Prompts the user to enter the number of results they would want to view\n",
    "limit = int(input(\"Enter the number of result you want to view for this query: \"))\n",
    "\n",
    "query2 = \"\"\"\n",
    "    SELECT EXTRACT(HOUR FROM CLOCK_TIME) AS HOUR_OF_DAY, COUNT(*) AS NUM_OF_VISITS\n",
    "FROM (\n",
    "  SELECT CLOCK_IN AS CLOCK_TIME\n",
    "  FROM ATTENDANCE\n",
    "  UNION ALL\n",
    "  SELECT CLOCK_OUT AS CLOCK_TIME\n",
    "  FROM ATTENDANCE\n",
    ") AS ALL_VISITS\n",
    "GROUP BY EXTRACT(HOUR FROM CLOCK_TIME)\n",
    "ORDER BY NUM_OF_VISITS DESC\n",
    "LIMIT {};\n",
    "\"\"\".format(limit)\n",
    "\n",
    "cursor.execute(query2)\n",
    "\n",
    "result_set2 = cursor.fetchall()\n",
    "\n",
    "headers2 = [\"HOUR_OF_DAY\", \"NUM_OF_VISITS\"]\n",
    "table2 = tabulate(result_set2, headers=headers2)\n",
    "\n",
    "print(table2)\n",
    "#cnx.close()\n"
   ]
  },
  {
   "cell_type": "code",
   "execution_count": 6,
   "metadata": {},
   "outputs": [
    {
     "name": "stdout",
     "output_type": "stream",
     "text": [
      "Enter the number of result you want to view for this query: 3\n",
      "PAYMENT_METHOD      TOTAL_TRANSACTIONS\n",
      "----------------  --------------------\n",
      "cheque                              33\n",
      "venmo                               29\n",
      "credit_card                         27\n"
     ]
    }
   ],
   "source": [
    "# 3. What are the 3 most commonly used payment methods from both expenses and payments?\n",
    "\n",
    "# Prompts the user to enter the number of results they would want to view\n",
    "limit = int(input(\"Enter the number of result you want to view for this query: \"))\n",
    "\n",
    "query3 = \"\"\"\n",
    "    SELECT PAYMENT_METHOD, SUM(NUM_TRANSACTIONS) AS TOTAL_TRANSACTIONS\n",
    "FROM (\n",
    "  SELECT PAYMENT_METHOD, COUNT(*) AS NUM_TRANSACTIONS\n",
    "  FROM EXPENSES\n",
    "  GROUP BY PAYMENT_METHOD\n",
    "  UNION ALL\n",
    "  SELECT PAYMENT_METHOD, COUNT(*) AS NUM_TRANSACTIONS\n",
    "  FROM PAYMENTS\n",
    "  GROUP BY PAYMENT_METHOD\n",
    ") AS ALL_TRANSACTIONS\n",
    "GROUP BY PAYMENT_METHOD\n",
    "ORDER BY TOTAL_TRANSACTIONS DESC\n",
    "LIMIT {};\n",
    "\"\"\".format(limit)\n",
    "\n",
    "cursor.execute(query3)\n",
    "\n",
    "result_set3 = cursor.fetchall()\n",
    "\n",
    "headers3 = [\"PAYMENT_METHOD\", \"TOTAL_TRANSACTIONS\"]\n",
    "table3 = tabulate(result_set3, headers=headers3)\n",
    "\n",
    "print(table3)"
   ]
  },
  {
   "cell_type": "code",
   "execution_count": 7,
   "metadata": {},
   "outputs": [
    {
     "name": "stdout",
     "output_type": "stream",
     "text": [
      "EQUIPMENT_NAME           NUM_OF_EQUIPMENTS\n",
      "---------------------  -------------------\n",
      "Training bench                           4\n",
      "Dumbbell set                             4\n",
      "Rowing machine                           3\n",
      "Treadmill                                2\n",
      "Stationary bicycle                       1\n",
      "Barbell set                              1\n",
      "Low impact treadmills                    1\n",
      "Resistance bands                         1\n"
     ]
    }
   ],
   "source": [
    "# 4. How much of each equipment type does the gym currently have?\n",
    "\n",
    "query4 = \"\"\"\n",
    "    SELECT G.EQUIPMENT_NAME, count(G.EQUIPMENT_NAME) as NUM_OF_EQUIPMENTS\n",
    "FROM \n",
    "ORDERS O\n",
    "INNER JOIN GYM_EQUIPMENTS G\n",
    "ON O.GYM_EQUIPMENTS_ID = G.GYM_EQUIPMENTS_ID\n",
    "WHERE O.STATUS = 'Delivered'\n",
    "GROUP BY G.EQUIPMENT_NAME\n",
    "ORDER BY NUM_OF_EQUIPMENTS DESC;\n",
    "\"\"\"\n",
    "\n",
    "cursor.execute(query4)\n",
    "\n",
    "result_set4 = cursor.fetchall()\n",
    "\n",
    "headers4 = [\"EQUIPMENT_NAME\", \"NUM_OF_EQUIPMENTS\"]\n",
    "table4 = tabulate(result_set4, headers=headers4)\n",
    "\n",
    "print(table4)"
   ]
  },
  {
   "cell_type": "code",
   "execution_count": 8,
   "metadata": {},
   "outputs": [
    {
     "name": "stdout",
     "output_type": "stream",
     "text": [
      "Enter the equipment name to see the count : Treadmill\n",
      "Treadmill : 2\n"
     ]
    }
   ],
   "source": [
    "# Fetch the count for a particular equipment asked by the user.\n",
    "equipment_name = input(\"Enter the equipment name to see the count : \")\n",
    "temp = {}\n",
    "\n",
    "for name, count in result_set4:\n",
    "    temp[name] = count\n",
    "    \n",
    "while(1):\n",
    "    if equipment_name not in temp.keys():\n",
    "        equipment_name = input('Enter correct equipment name')\n",
    "    else:\n",
    "        print(equipment_name, ':',temp[equipment_name])\n",
    "        break"
   ]
  },
  {
   "cell_type": "code",
   "execution_count": 8,
   "metadata": {},
   "outputs": [
    {
     "name": "stdout",
     "output_type": "stream",
     "text": [
      "TRAINER_FIRST_NAME      NUM_OF_MEMBER\n",
      "--------------------  ---------------\n",
      "Velvet                              7\n",
      "Karry                               4\n",
      "Shae                                4\n",
      "Gracie                              2\n",
      "Maud                                2\n",
      "Frasquito                           1\n"
     ]
    }
   ],
   "source": [
    "# 5 How many members is each trainer currently training?\n",
    "\n",
    "query5 = \"\"\"\n",
    "SELECT T.TRAINER_FIRST_NAME, COUNT(M.MEMBER_ID) AS NUM_OF_MEMBERS\n",
    "FROM TRAINER T\n",
    "INNER JOIN TRAINER_WORKOUT W\n",
    "ON T.TRAINER_ID = W.TRAINER_ID\n",
    "INNER JOIN MEMBERS M\n",
    "ON W.PLAN_ID = M.PLAN_ID\n",
    "GROUP BY T.TRAINER_ID\n",
    "ORDER BY NUM_OF_MEMBERS DESC;\n",
    "\"\"\"\n",
    "\n",
    "cursor.execute(query5)\n",
    "result_set5 = cursor.fetchall()\n",
    "headers5 = [\"TRAINER_FIRST_NAME\", \"NUM_OF_MEMBER\"]\n",
    "table5 = tabulate(result_set5, headers = headers5)\n",
    "print(table5)"
   ]
  },
  {
   "cell_type": "code",
   "execution_count": 9,
   "metadata": {},
   "outputs": [
    {
     "name": "stdout",
     "output_type": "stream",
     "text": [
      "Enter trainer name : Velvet\n",
      "Velvet : 7\n"
     ]
    }
   ],
   "source": [
    "# Fetch the count of memebers for perticular trainer.\n",
    "trainer_name = input(\"Enter trainer name : \")\n",
    "temp = {}\n",
    "\n",
    "for name, count in result_set5:\n",
    "    temp[name] = count\n",
    "    \n",
    "while(1):\n",
    "    if trainer_name not in temp.keys():\n",
    "        trainer_name = input('Enter correct trainer name')\n",
    "    else:\n",
    "        print(trainer_name, ':',temp[trainer_name])\n",
    "        break"
   ]
  },
  {
   "cell_type": "code",
   "execution_count": 9,
   "metadata": {},
   "outputs": [
    {
     "name": "stdout",
     "output_type": "stream",
     "text": [
      "  MEMBERSHIP_ID  DESCRIPTION                                          NUM_OF_MEMBERS\n",
      "---------------  -------------------------------------------------  ----------------\n",
      "              3  Half yearly membership plan with single payment                   4\n",
      "              7  Yearly membership plan with half yearly payment                   4\n",
      "              4  Half yearly membership plan with 3 months payment                 3\n",
      "             10  Yearly membership plan with monthly payment                       3\n",
      "              1  3 months membership plan with single payment                      2\n",
      "              9  Yearly membership plan with 3 months payment                      2\n",
      "              2  3 months membership plan with montly payment                      1\n",
      "              5  Half yearly membership plan with monthly payment                  1\n"
     ]
    }
   ],
   "source": [
    "# 6. How many members are signed up for each type of membership plan?\n",
    "\n",
    "query6 = \"\"\"\n",
    "SELECT P.MEMBERSHIP_ID, P.DESCRIPTION, COUNT(M.MEMBER_ID) AS NUM_OF_MEMBERS\n",
    "FROM MEMBERS M \n",
    "INNER JOIN MEMBERSHIP_PLAN P\n",
    "ON M.MEMBERSHIP_ID = P.MEMBERSHIP_ID\n",
    "GROUP BY M.MEMBERSHIP_ID\n",
    "ORDER BY NUM_OF_MEMBERS DESC;\n",
    "\"\"\"\n",
    "\n",
    "cursor.execute(query6)\n",
    "result_set6 = cursor.fetchall()\n",
    "headers6 = [\"MEMBERSHIP_ID\", \"DESCRIPTION\", \"NUM_OF_MEMBERS\"]\n",
    "table6 = tabulate(result_set6, headers = headers6)\n",
    "print(table6)"
   ]
  },
  {
   "cell_type": "code",
   "execution_count": 11,
   "metadata": {},
   "outputs": [
    {
     "name": "stdout",
     "output_type": "stream",
     "text": [
      "Enter membership id (range of 1 to 10) : 1\n",
      "\n",
      "Membership plan id : 1 \n",
      "Description is : 3 months membership plan with single payment \n",
      "Number of members following this membership plan : 2\n"
     ]
    }
   ],
   "source": [
    "# Fetch the description and the number of members following that perticular membership plan\n",
    "membership_id = int(input(\"Enter membership id (range of 1 to 10) : \"))\n",
    "while(1):\n",
    "    if membership_id not in range(1,11):\n",
    "        membership_id = int(input(\"Enter valid membership id (range of 1 to 10)\"))\n",
    "    else:\n",
    "        break\n",
    "flag = 0\n",
    "for mid, desc, count in result_set6:\n",
    "    if membership_id == mid:\n",
    "        print('\\nMembership plan id :',membership_id, '\\nDescription is :', desc, '\\nNumber of members following this membership plan :',count)\n",
    "        flag = 1\n",
    "if flag == 0:\n",
    "    print('Membership plan with id', membership_id, 'does not have any members.')"
   ]
  },
  {
   "cell_type": "code",
   "execution_count": 12,
   "metadata": {},
   "outputs": [
    {
     "name": "stdout",
     "output_type": "stream",
     "text": [
      "  MEMBER_ID    SCHEDULE_HRS    TIME_SPEND\n",
      "-----------  --------------  ------------\n",
      "          3              20            12\n",
      "         10              19            11\n",
      "         15              18            20\n",
      "          1              18            16\n",
      "         12              18            12\n",
      "         13              18            11\n",
      "         11              18            10\n",
      "          4              18             8\n",
      "          7              16            14\n",
      "         14              16            11\n",
      "         20              16             8\n",
      "         18              11             6\n",
      "          9               9            13\n",
      "          5               9            12\n",
      "          8               4             5\n",
      "         17               3            16\n",
      "         16               3            12\n",
      "         19               3            12\n",
      "          6               3            11\n",
      "          2               3             4\n"
     ]
    }
   ],
   "source": [
    "# 7. How does the amount of time each member spend in the gym compare to their scheduled hours for a week?\n",
    "\n",
    "query7 = \"\"\"\n",
    "SELECT M.MEMBER_ID, MAX(W.SCHEDULE_HRS) AS SCHEDULE_HRS, SUM(HOUR(TIMEDIFF(A.CLOCK_OUT, A.CLOCK_IN))) AS TIME_SPEND\n",
    "FROM ATTENDANCE A\n",
    "INNER JOIN MEMBERS M\n",
    "ON A.MEMBER_ID = M.MEMBER_ID\n",
    "INNER JOIN TRAINER_WORKOUT W\n",
    "ON M.PLAN_ID = W.PLAN_ID\n",
    "WHERE DATE(A.CLOCK_IN) >= '2023-01-21' AND DATE(A.CLOCK_OUT) <= '2023-01-27'\n",
    "GROUP BY M.MEMBER_ID\n",
    "ORDER BY SCHEDULE_HRS DESC, TIME_SPEND DESC;\n",
    "\"\"\"\n",
    "\n",
    "cursor.execute(query7)\n",
    "result_set7 = cursor.fetchall()\n",
    "headers7 = [\"MEMBER_ID\", \"SCHEDULE_HRS\", \"TIME_SPEND\"]\n",
    "table7 = tabulate(result_set7, headers = headers7)\n",
    "print(table7)"
   ]
  },
  {
   "cell_type": "code",
   "execution_count": 13,
   "metadata": {},
   "outputs": [
    {
     "name": "stdout",
     "output_type": "stream",
     "text": [
      "Enter member id (range of 1 to 20) : 20\n",
      "\n",
      "Member id : 20 \n",
      "Schedule Hours are : 16 \n",
      "Time Spent in Gym : 8\n"
     ]
    }
   ],
   "source": [
    "# Fetch the schedule hour & time spend on gym for a member.\n",
    "member_id = int(input(\"Enter member id (range of 1 to 20) : \"))\n",
    "while(1):\n",
    "    if member_id not in range(1,21):\n",
    "        member_id = int(input(\"Enter valid membership id (range of 1 to 20)\"))\n",
    "    else:\n",
    "        break\n",
    "for mid, sched, time in result_set7:\n",
    "    if member_id == mid:\n",
    "        print('\\nMember id :',member_id, '\\nSchedule Hours are :',sched, '\\nTime Spent in Gym :',time)"
   ]
  },
  {
   "cell_type": "code",
   "execution_count": 14,
   "metadata": {},
   "outputs": [
    {
     "name": "stdout",
     "output_type": "stream",
     "text": [
      "  MEMBER_ID  MEMBER_FIRST_NAME    MEMBER_LAST_NAME      PAYMENT_ID    PAYMENT_AMOUNT  PAYMENT_DATE\n",
      "-----------  -------------------  ------------------  ------------  ----------------  --------------\n",
      "         16  Mozes                Shattock                      47               265  2022-04-10\n",
      "          6  Jere                 Tschursch                     48                60  2022-04-11\n",
      "         19  Sim                  Langham                       49              1977  2022-04-12\n",
      "         13  Tania                Tammadge                      50               346  2022-04-13\n",
      "          6  Jere                 Tschursch                     51               332  2022-04-14\n",
      "          7  Bryna                Cosley                        52               439  2022-04-15\n",
      "         17  Alva                 Guerro                        53               872  2022-04-16\n",
      "         14  Dinnie               Francesconi                   54              1077  2022-04-17\n",
      "          1  Ameline              Lamas                         55              1094  2022-04-18\n",
      "         11  Natividad            Pett                          28               840  2022-07-22\n",
      "         14  Dinnie               Francesconi                   29              1580  2022-07-23\n",
      "         12  Zachary              Shelf                         30              1358  2022-07-24\n",
      "          5  Cathy                Celli                         31               713  2022-07-25\n",
      "          8  Devonna              Subhan                        32               400  2022-07-26\n",
      "         14  Dinnie               Francesconi                   33               396  2022-07-27\n",
      "          7  Bryna                Cosley                        34              1234  2022-07-28\n",
      "         20  Dolli                Glashby                       35               465  2022-07-29\n",
      "          3  Pedro                Ragsdale                      36              1247  2022-07-30\n",
      "          6  Jere                 Tschursch                     37              1243  2022-07-31\n",
      "          3  Pedro                Ragsdale                      38              1599  2022-08-01\n",
      "          7  Bryna                Cosley                        39              1761  2022-08-02\n",
      "         11  Natividad            Pett                          40              1169  2022-08-03\n",
      "         17  Alva                 Guerro                        41              1302  2022-08-04\n",
      "         12  Zachary              Shelf                         42               206  2022-08-05\n",
      "          9  Sara-ann             Laval                         43               682  2022-08-06\n",
      "         20  Dolli                Glashby                       44               768  2022-08-07\n",
      "         11  Natividad            Pett                          45               240  2022-08-08\n",
      "         16  Mozes                Shattock                      46               211  2022-08-09\n",
      "          4  Chrissy              Bromhead                      99              1396  2022-08-13\n",
      "         12  Zachary              Shelf                        100               312  2022-11-14\n"
     ]
    }
   ],
   "source": [
    "# 8. Every rejected transaction and the associated member.\n",
    "\n",
    "query8 = \"\"\"\n",
    "SELECT M.MEMBER_ID , M.MEMBER_FIRST_NAME, M.MEMBER_LAST_NAME, P.PAYMENT_ID, P.PAYMENT_AMOUNT, P.PAYMENT_DATE\n",
    "FROM MEMBERS M\n",
    "INNER JOIN PAYMENTS P\n",
    "ON M.MEMBER_ID = P.MEMBER_ID\n",
    "WHERE P.TRANSACTION_STATUS = 'fail'\n",
    "ORDER BY P.PAYMENT_DATE;\n",
    "\"\"\"\n",
    "\n",
    "cursor.execute(query8)\n",
    "result_set8 = cursor.fetchall()\n",
    "headers8 = [\"MEMBER_ID\", \"MEMBER_FIRST_NAME\", \"MEMBER_LAST_NAME\", \"PAYMENT_ID\", \"PAYMENT_AMOUNT\", \"PAYMENT_DATE\"]\n",
    "table8 = tabulate(result_set8, headers = headers8)\n",
    "print(table8)"
   ]
  },
  {
   "cell_type": "code",
   "execution_count": 15,
   "metadata": {},
   "outputs": [
    {
     "name": "stdout",
     "output_type": "stream",
     "text": [
      "Enter member id (range of 1 to 20) : 20\n",
      "\n",
      "Member id : 20 \n",
      "Member name is : Dolli \n",
      "Payment amount : 465.0 \n",
      "Payment date 2022-07-29\n",
      "\n",
      "Member id : 20 \n",
      "Member name is : Dolli \n",
      "Payment amount : 768.0 \n",
      "Payment date 2022-08-07\n",
      "\n",
      "Member with id 20 has 2 rejected transactions.\n"
     ]
    }
   ],
   "source": [
    "# Fetch the member first name payment amount & payment date of rejected transaction for that perticular member id\n",
    "member_id = int(input(\"Enter member id (range of 1 to 20) : \"))\n",
    "while(1):\n",
    "    if member_id not in range(1,21):\n",
    "        member_id = int(input(\"Enter valid member id (range of 1 to 20)\"))\n",
    "    else:\n",
    "        break\n",
    "flag = 0\n",
    "count = 0\n",
    "for mid, fname, lname, pid, pamt, date in result_set8:\n",
    "    if member_id == mid:\n",
    "        print('\\nMember id :',member_id, '\\nMember name is :', fname, '\\nPayment amount :',pamt,'\\nPayment date',date)\n",
    "        flag = 1\n",
    "        count = count + 1\n",
    "if flag == 1:\n",
    "    print('\\nMember with id', member_id, 'has', count, 'rejected transactions.')\n",
    "if flag == 0:\n",
    "    print('Member with id', member_id, 'does not have any rejected transactions.')"
   ]
  },
  {
   "cell_type": "code",
   "execution_count": 16,
   "metadata": {},
   "outputs": [
    {
     "name": "stdout",
     "output_type": "stream",
     "text": [
      "  MEMBER_TO_TRAINER_RATIO\n",
      "-------------------------\n",
      "                   3.3333\n"
     ]
    }
   ],
   "source": [
    "# 9. Ratio of members to trainers\n",
    "\n",
    "query9 = \"\"\"\n",
    "SELECT COUNT(DISTINCT M.MEMBER_ID) / COUNT(DISTINCT T.TRAINER_ID) AS MEMBER_TO_TRAINER_RATIO\n",
    "FROM TRAINER T\n",
    "JOIN TRAINER_WORKOUT W \n",
    "ON T.TRAINER_ID = W.TRAINER_ID\n",
    "JOIN MEMBERS M\n",
    "ON W.PLAN_ID = M.PLAN_ID;\n",
    "\"\"\"\n",
    "\n",
    "cursor.execute(query9)\n",
    "result_set9 = cursor.fetchall()\n",
    "headers9 = [\"MEMBER_TO_TRAINER_RATIO\"]\n",
    "table9 = tabulate(result_set9, headers = headers9)\n",
    "print(table9)\n"
   ]
  },
  {
   "cell_type": "code",
   "execution_count": 17,
   "metadata": {},
   "outputs": [],
   "source": [
    "cursor.close()\n",
    "cnx.close()"
   ]
  }
 ],
 "metadata": {
  "kernelspec": {
   "display_name": "Python 3",
   "language": "python",
   "name": "python3"
  },
  "language_info": {
   "codemirror_mode": {
    "name": "ipython",
    "version": 3
   },
   "file_extension": ".py",
   "mimetype": "text/x-python",
   "name": "python",
   "nbconvert_exporter": "python",
   "pygments_lexer": "ipython3",
   "version": "3.7.4"
  }
 },
 "nbformat": 4,
 "nbformat_minor": 2
}
